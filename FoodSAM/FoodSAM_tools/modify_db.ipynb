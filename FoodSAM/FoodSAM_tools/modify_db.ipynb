{
 "cells": [
  {
   "cell_type": "code",
   "execution_count": 1,
   "metadata": {},
   "outputs": [],
   "source": [
    "import pandas as pd\n",
    "from datetime import datetime\n",
    "import sqlite3"
   ]
  },
  {
   "cell_type": "code",
   "execution_count": 12,
   "metadata": {},
   "outputs": [],
   "source": [
    "import sqlite3\n",
    "\n",
    "# 连接数据库\n",
    "conn = sqlite3.connect('test.db')\n",
    "cursor = conn.cursor()\n",
    "\n",
    "# 创建 users 表\n",
    "cursor.execute('''\n",
    "CREATE TABLE IF NOT EXISTS users (\n",
    "    id INTEGER PRIMARY KEY AUTOINCREMENT,\n",
    "    name TEXT NOT NULL,\n",
    "    age INTEGER NOT NULL,\n",
    "    sex INTEGER NOT NULL,\n",
    "    height REAL NOT NULL,\n",
    "    weight REAL NOT NULL,\n",
    "    exercise INTEGER NOT NULL,\n",
    "    email TEXT NOT NULL UNIQUE,\n",
    "    password TEXT NOT NULL\n",
    ")\n",
    "''')\n",
    "\n",
    "# 创建 health_status 表\n",
    "cursor.execute('''\n",
    "CREATE TABLE IF NOT EXISTS health_status (\n",
    "    id INTEGER PRIMARY KEY AUTOINCREMENT,\n",
    "    user_id INTEGER NOT NULL,\n",
    "    K REAL,\n",
    "    P REAL,\n",
    "    Glucose_random REAL,\n",
    "    Glucose_AC REAL,\n",
    "    LDL_C REAL,\n",
    "    eGPR REAL,\n",
    "    datetime DATETIME,\n",
    "    FOREIGN KEY (user_id) REFERENCES users(id)\n",
    ")\n",
    "''')\n",
    "\n",
    "cursor.execute('''\n",
    "CREATE TABLE IF NOT EXISTS daily_nutrition (\n",
    "    id INTEGER PRIMARY KEY AUTOINCREMENT,\n",
    "    user_id INTEGER NOT NULL,\n",
    "    datetime DATETIME,\n",
    "    calories REAL,\n",
    "    carbohydrate REAL,\n",
    "    protein REAL,\n",
    "    fat REAL,\n",
    "    K REAL,\n",
    "    P REAL,\n",
    "    Na REAL,\n",
    "    Ca REAL,\n",
    "    VitA REAL,\n",
    "    VitD REAL,\n",
    "    VitE REAL,\n",
    "    VitK REAL,\n",
    "    FOREIGN KEY (user_id) REFERENCES users(id),\n",
    "    UNIQUE (user_id, datetime)\n",
    ")\n",
    "''')\n",
    "\n",
    "# 提交更改并关闭连接\n",
    "conn.commit()\n",
    "conn.close()\n"
   ]
  },
  {
   "cell_type": "code",
   "execution_count": 11,
   "metadata": {},
   "outputs": [],
   "source": [
    "import sqlite3\n",
    "\n",
    "def drop_table():\n",
    "    conn = sqlite3.connect('test.db')\n",
    "    cursor = conn.cursor()\n",
    "\n",
    "    # Drop the daily_nutrition table\n",
    "    cursor.execute(\"DROP TABLE IF EXISTS users;\")\n",
    "    cursor.execute(\"DROP TABLE IF EXISTS daily_nutrition;\")\n",
    "    cursor.execute(\"DROP TABLE IF EXISTS health_status;\")\n",
    "    conn.commit()\n",
    "    conn.close()\n",
    "\n",
    "# Call the function to drop the table\n",
    "drop_table()\n"
   ]
  },
  {
   "cell_type": "code",
   "execution_count": 13,
   "metadata": {},
   "outputs": [],
   "source": [
    "import bcrypt\n",
    "\n",
    "def hash_password(password):\n",
    "    return bcrypt.hashpw(password.encode('utf-8'), bcrypt.gensalt()).decode('utf-8')\n",
    "\n",
    "def add_user(name, email, age, password, height, weight, sex, exercise):\n",
    "    conn = sqlite3.connect('test.db')\n",
    "    cursor = conn.cursor()\n",
    "    hashed_password = hash_password(password)\n",
    "    if sex == 'female':\n",
    "        sex_tag = int(1)\n",
    "    else:\n",
    "        sex_tag = int(0)\n",
    "    height = float(height)\n",
    "    weight = float(weight)\n",
    "    cursor.execute(\"INSERT INTO users (name, email, age, password, height, weight, sex, exercise) VALUES (?, ?, ?, ? ,? ,?, ?, ?)\", (name, email, age, hashed_password, height, weight, sex_tag, exercise))\n",
    "    conn.commit()\n",
    "    conn.close()\n",
    "\n",
    "def verify_password(stored_password, provided_password):\n",
    "    return bcrypt.checkpw(provided_password.encode('utf-8'), stored_password.encode('utf-8'))\n",
    "\n",
    "def login_user(email, password):\n",
    "    correct = False\n",
    "    conn = sqlite3.connect('test.db')\n",
    "    cursor = conn.cursor()\n",
    "    cursor.execute(\"SELECT password FROM users WHERE email = ?\", (email,))\n",
    "    result = cursor.fetchone()\n",
    "    if result and verify_password(result[0], password):\n",
    "        print(\"Login successful\")\n",
    "        correct = True\n",
    "    else:\n",
    "        print(\"Invalid credentials\")\n",
    "    conn.commit()\n",
    "    conn.close()\n",
    "    return correct\n",
    "\n",
    "def find_user_id(email):\n",
    "    conn = sqlite3.connect('test.db')\n",
    "    cursor = conn.cursor()\n",
    "    cursor.execute(\"SELECT id FROM users WHERE email = ?\", (email, ))\n",
    "    conn.commit()\n",
    "    return cursor.fetchone()  # This will return the first match or None if not found\n",
    "\n",
    "def get_user_health_data(user_id):\n",
    "    conn = sqlite3.connect('test.db')\n",
    "    cursor = conn.cursor()\n",
    "    cursor.execute('''\n",
    "    SELECT users.name, users.email, users.age, health_status.K, health_status.P, health_status.Glucose_random, health_status.Glucose_AC, health_status.LDL_C, health_status.eGPR, health_status.datetime\n",
    "    FROM users\n",
    "    JOIN health_status ON users.id = health_status.user_id\n",
    "    WHERE users.id = ?\n",
    "    ''', (user_id,))\n",
    "    conn.commit()\n",
    "    return cursor.fetchall()\n",
    "\n",
    "\n",
    "def find_user_data(email, password):\n",
    "    correct = login_user(email, password)\n",
    "    if not correct:\n",
    "        return\n",
    "    id = find_user_id(email)\n",
    "    user_health_data = get_user_health_data(id[0])\n",
    "    for data in user_health_data:\n",
    "        print(data)\n",
    "\n",
    "def add_health_status(email, password, K, P, Glucose_random, Glucose_AC, LDL_C, eGPR, datetime):\n",
    "    correct = login_user(email, password)\n",
    "    if not correct:\n",
    "        return\n",
    "    id = find_user_id(email)\n",
    "    conn = sqlite3.connect('test.db')\n",
    "    cursor = conn.cursor()\n",
    "    cursor.execute(\"INSERT INTO health_status (user_id, K, P, Glucose_random, Glucose_AC, LDL_C, eGPR, datetime) VALUES (?, ?, ?, ?, ?, ?, ?, ?)\",\n",
    "                   (id[0], K, P, Glucose_random, Glucose_AC, LDL_C, eGPR, datetime))\n",
    "    conn.commit()\n",
    "    conn.close()"
   ]
  },
  {
   "cell_type": "code",
   "execution_count": 14,
   "metadata": {},
   "outputs": [],
   "source": [
    "add_user(\"alice\", \"alice@example.com\", 30, \"securepassword123\", 165, 45, 'female', 2)"
   ]
  },
  {
   "cell_type": "code",
   "execution_count": 15,
   "metadata": {},
   "outputs": [
    {
     "name": "stdout",
     "output_type": "stream",
     "text": [
      "Login successful\n"
     ]
    }
   ],
   "source": [
    "from datetime import date\n",
    "today = date.today()\n",
    "today_str = today.strftime('%Y-%m-%d')\n",
    "add_health_status(\"alice@example.com\", \"securepassword123\", 6, 6, 200, 100, 100, 50, today_str)"
   ]
  },
  {
   "cell_type": "code",
   "execution_count": 7,
   "metadata": {},
   "outputs": [
    {
     "name": "stdout",
     "output_type": "stream",
     "text": [
      "Login successful\n",
      "('alice', 'alice@example.com', 30, 6.0, 6.0, 200.0, 100.0, 100.0, '2024-11-4')\n"
     ]
    }
   ],
   "source": [
    "find_user_data(\"alice@example.com\", \"securepassword123\")"
   ]
  },
  {
   "cell_type": "code",
   "execution_count": null,
   "metadata": {},
   "outputs": [],
   "source": [
    "import sqlite3\n",
    "\n",
    "# Connect to the SQLite database\n",
    "conn = sqlite3.connect('test.db')\n",
    "cursor = conn.cursor()\n",
    "\n",
    "# Delete a specific row\n",
    "cursor.execute(\"DELETE FROM daily_nutrition WHERE id = ?\", (66,))\n",
    "\n",
    "# Commit the changes and close the connection\n",
    "conn.commit()\n",
    "conn.close()\n"
   ]
  },
  {
   "cell_type": "code",
   "execution_count": null,
   "metadata": {},
   "outputs": [],
   "source": []
  }
 ],
 "metadata": {
  "kernelspec": {
   "display_name": "Python 3",
   "language": "python",
   "name": "python3"
  },
  "language_info": {
   "codemirror_mode": {
    "name": "ipython",
    "version": 3
   },
   "file_extension": ".py",
   "mimetype": "text/x-python",
   "name": "python",
   "nbconvert_exporter": "python",
   "pygments_lexer": "ipython3",
   "version": "3.8.10"
  }
 },
 "nbformat": 4,
 "nbformat_minor": 2
}
